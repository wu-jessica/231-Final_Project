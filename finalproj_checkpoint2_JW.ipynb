{
 "cells": [
  {
   "cell_type": "markdown",
   "metadata": {},
   "source": [
    "## Final Project\n",
    "**Team:** Vivian Fu, Xinxin Mo, Jessica Wu, Snow Xu  \n",
    "**Data:** 160523Alm_D16-4701_1_sequence.fastq.gz and 160523Alm_D16-4701_2_sequence.fastq.gz  "
   ]
  },
  {
   "cell_type": "markdown",
   "metadata": {},
   "source": [
    "### Week 1"
   ]
  },
  {
   "cell_type": "markdown",
   "metadata": {},
   "source": [
    "**Terminal command:**\n",
    "\n",
    "    spades --meta -1 /data/metagenomes/160523Alm_D16-4701_1_sequence.fastq.gz -2 /data/metagenomes/160523Alm_D16-4701_2_sequence.fastq.gz -t 2 -m 16 -o ~/jess/final_proj\n",
    "    \n",
    "    Error: out of memory\n",
    "    \n",
    "    spades --meta -1 /data/metagenomes/160523Alm_D16-4701_1_sequence.fastq.gz -2 /data/metagenomes/160523Alm_D16-4701_2_sequence.fastq.gz -t 2 -o ~/jess/final_proj\n",
    "    \n",
    "Still running as of 11/7 6pm, so SPAdes analysis not included in this week's submission.  "
   ]
  },
  {
   "cell_type": "markdown",
   "metadata": {},
   "source": [
    "**Quantify the abundance of different microbes in metagenome**  \n",
    "[MetaPhIAn2](http://huttenhower.sph.harvard.edu/galaxy/)  \n",
    "[One Codex](https://onecodex.com/)  \n",
    "  \n",
    "**One Codex credentials**  \n",
    "username: vivianfu@berkeley.edu  \n",
    "password: 19951012  \n",
    "\n",
    "[One Codex Results](https://app.onecodex.com/classification/a029ffcffcc5437c)\n",
    "![Species Composition](top_species.jpg)  \n",
    "![Genus Composition](top_genera.jpg)  \n",
    "\n",
    "**Summary:**  \n",
    "Identical results were obtained for the forward and reverse reads of the sample, which makes sense because they are paired-end reads. Based on the results of One Codex, the sample is a metagenomic sample with no dominant species with high or medium abundance. Rather, the sample has a variety of bacterial species (and a few archae), each with relatively low abundance. The top ten most abundant (by readcount - percent of classified reads) species are 3.91% Armatimonadetes bacterium, 3.83% Acidobacteria bacterium, 0.99% Ktedonobacter racemifer, 0.86% Alphaproteobacteria bacterium, 0.78% Acidobacteria bacterium, 0.77% Nitrospirae bacterium, 0.71% Actinobacteria bacterium, 0.59% Crenarchaeota archaeon, 0.53% Chloroflex bacterium, and 0.44% Ktedonobacter sp. 13. The top ten most abundant genera are 3.37% Ktedonobacter, 3.05% Streptomyces, 1.16% Bradyrhizobium, 1.01% Mycobacterium, 0.6% Pseudomonas, 0.32% Sphingomonas, 0.28% Micromonospora, 0.27% Rhizobium, 0.27% Microbacterium, and 0.26% Mesorhizobium."
   ]
  },
  {
   "cell_type": "markdown",
   "metadata": {},
   "source": [
    "### Week 2  "
   ]
  },
  {
   "cell_type": "markdown",
   "metadata": {},
   "source": [
    "#### Re-ran SPAdes using a fraction of original sequence data  \n",
    "\n",
    "**First, we copied the data to the home directory so that it can be unzipped.**  \n",
    "\n",
    "    cp /data/metagenomes/160523Alm_D16-4701_1_sequence.fastq.gz ~/fp/data  \n",
    "    cp /data/metagenomes/160523Alm_D16-4701_2_sequence.fastq.gz ~/fp/data  \n",
    "\n",
    "    gzip -d 160523Alm_D16-4701_1_sequence.fastq.gz\n",
    "    gzip -d 160523Alm_D16-4701_2_sequence.fastq.gz\n",
    " \n",
    "**Then we got the first 10000000 lines from each FASTQ file.**  \n",
    "\n",
    "    head -10000000 160523Alm_D16-4701_1_sequence.fastq > cut_reads_1.fastq \n",
    "    head -10000000 160523Alm_D16-4701_2_sequence.fastq > cut_reads_2.fastq\n",
    "\n",
    "**Then ran SPAdes.**  \n",
    "\n",
    "    spades -1 cut_reads_1.fastq -2 cut_reads_2.fastq -t 2 --meta -o ~/fp/Lab_final_6\n",
    "\n",
    "\n",
    "**From the SPAdes output contigs.fasta and scaffolds.fasta, we obtained the contig and scaffold assembly statistics.**  \n",
    "\n",
    "    be131-03@meowth:~/final_project_x/data/lab_final_6$ assembly-stats contigs.fasta\n",
    "    sum = 177369164, n = 686536, ave = 258.35, largest = 5489\n",
    "    N50 = 260, n = 246202\n",
    "    N60 = 248, n = 316020\n",
    "    N70 = 237, n = 389222\n",
    "    N80 = 224, n = 466189\n",
    "    N90 = 210, n = 547788\n",
    "    N100 = 55, n = 686536\n",
    "    N_count = 0\n",
    "    Gaps = 0\n",
    "\n",
    "    be131-03@meowth:~/final_project_x/data/lab_final_6$ assembly-stats scaffolds.fasta\n",
    "    sum = 177378834, n = 685578, ave = 258.73, largest = 5489\n",
    "    N50 = 260, n = 245275\n",
    "    N60 = 248, n = 315079\n",
    "    N70 = 237, n = 388271\n",
    "    N80 = 224, n = 465232\n",
    "    N90 = 210, n = 546829\n",
    "    N100 = 55, n = 685578\n",
    "    N_count = 9670\n",
    "    Gaps = 958\n",
    "\n",
    "**Next we identify the taxon of the given data by typing in the command line and obtaining a gff file.**  \n",
    "\n",
    "    rna_hmm3.py -i contigs.fasta -o taxon.gff\n",
    "\n",
    "**Once we clean up the file by deleting anything that isn't 16S, we ran:**  \n",
    "\n",
    "    bedtools getfasta -fi contigs.fasta -bed taxon.gff"
   ]
  },
  {
   "cell_type": "markdown",
   "metadata": {},
   "source": [
    "**We are still waiting on the results of MG-RAST. In the meantime, we brainstormed project ideas:**  \n",
    "\n",
    "1. Figure out region/biome sample was obtained from.\n",
    "We could use the results of our genome assembly and annotation to analyze the most prevalent flora and fauna in the sample. This would allow us to figure out what region/biome these soil samples were obtained from. We could do this by either delving into the One Codex and MG-RAST results to find eukaryotic matches or analyze the most prevalent bacterial species in the sample to see what plant/animal life they are symbiotic with and infer what flora and fauna are found in the region.  \n",
    "  \n",
    "2. Check for mutations in different types of bacteria. \n",
    "The hypothesis is that due to radioactivity, mutations could arise in bacteria genomes. If we compare the bacteria genomes in the soil sample to reference genomes using BLAST, we can know the extent to which the bacteria has mutated if any.  \n",
    "  \n",
    "3. Determine whether the soil sample is contaminated or not\n",
    "Based on the abundances of the organisms in the sample, is it possible for us to determine the nature of the soil (whether it’s radioactively contaminated or not)?  "
   ]
  },
  {
   "cell_type": "markdown",
   "metadata": {},
   "source": [
    "### Week 3"
   ]
  },
  {
   "cell_type": "markdown",
   "metadata": {},
   "source": [
    "[MG-RAST results](https://www.mg-rast.org/mgmain.html?mgpage=overview&metagenome=976fc9504e6d676d343832313539312e33)  "
   ]
  },
  {
   "cell_type": "markdown",
   "metadata": {},
   "source": [
    "**MG-RAST Summary**  \n",
    "\n",
    "MG-RAST was used to analyze our contigs and scaffolds FASTA files. The contigs dataset contains 2,256,216 sequences totaling 644,258,485 base pairs with an average length of 286 bps. The pipeline for MG-RAST analysis consists of five major steps: data cleaning, feature extraction, feature annotation, profile generation, and data loading. In data cleaning, 0 sequences failed to pass the QC pipeline, so all contigs went into the next step of the MG-RAST pipeline. Next, MG-RAST extracts features using FragGeneScan. 80% had features predicted by the algorithm, and about 20% were labeled “unknown”. Out of the predicted features, about 60% corresponded to unknown proteins, about 40% to annotated proteins, and less that 1% to ribosomal RNA. In the next step, MG-RAST annotates the predicted genes by performing a similarity analysis on each of the longest sequences in the protein clusters of >=90% identity that it builds. The similarity analysis is performed using various tools to search the sequences against existing protein databases. Once data like functional categories, subsystems, and taxonomic hits are collected, the data is displayed in a generated profile for the convenience of the user.  \n",
    "\n",
    "The MG-RAST results from our sample relevant to our project are summarized here. Top 10 genus abundances: Ktedonobacter (27.64%), Candidatus Koribacter (6.43%), Candidatus Solibacter (5.92%), Acidobacterium (2.90%), Streptomyces (2.34%), Nitrospira (1.87%), Burkholderia (1.37%), unclassified bacteria (1.37%), Frankia (1.33%), and Gemmata (1.11%). The top 10 genera in the second and third deepest layers were almost the same as the first, with just one or two genera being in different spots in the ranking. For layer 4 we saw the first significant change, in that Ktedonobacter dropped to 7.20% abundance and other top genera increased in relative abundance in comparison. Past the fourth layer, Ktedonobacter continued to drop in abundance, with Candidatus Solibacter ultimately taking over the highest abundance position.  \n"
   ]
  },
  {
   "cell_type": "markdown",
   "metadata": {},
   "source": [
    "**Project Overview**  \n",
    "Based on the MG-RAST analysis, we plan to investigate variation in abundance and diversity of bacterial genera across different soil depths. We will also conduct a mutation analysis to examine the effect of radioactive contamination on certain bacteria. To do so, MG-RAST results, BLAST alignment, and mutation calling/analysis tools will be utilized.  \n",
    "\n",
    "To analyze the variation in abundance of bacterial genera, common genera across all layers were first identified. The percent abundances of the top five genera across all layers were subsequently plotted as shown in Figure 1 to yield general trend at different soil levels. From literature research [1], we found that soil’s species abundance relates to the pH and moisture of the soil. In our case, since the pH of the soil sampled over different depths doesn’t change significantly, we hypothesize that the abundance of the species would increase as depth increases due to increased soil moisture. The percent abundance of  species in the Ktedonobacter genus decreased while species from other genera (Candidatus Solibacter, Acidobacterium, Candidatus Koribacter, Streptomyces) don’t show any significant trends. Based on our results, we cannot conclude that the abundance of the species correlates with soil depth. We suspect a source of these inconclusive results could be due the varied way datasets were created and sampled between teams. For instance, teams used from 5% to 100%, of the original sequences for assembly and MG-RAST analysis.  \n",
    "\n",
    "**Figure 1: Select species abundance at different soil depths**  \n",
    "![Figure 1](abundance_plot.jpg)  \n",
    "\n",
    "We used alpha diversity, an indicator of mean species diversity within a single microbial ecosystem, as a metric for bacteria species diversity across the soil layers. We hypothesized that the diversity would vary at different depths due to differences in soil properties as well as the levels of radioactive contamination. The properties change at different depths due to variations in pH, moisture, nutrients, etc. Consequently, alpha diversity should have different values across different depths. Among all the elements influencing bacterial diversity in soil, pH has the greatest effect [3]. As pH decreases, bacterial diversity decreases as well, and at neutral pH, bacterial diversity is the highest. Based on the provided sediment chemical analysis, it is observed that pH remains relatively constant at the soil depths of interest, and thus could not be used to explain the variation in alpha diversity.  The main factor that contributes to the difference in diversity here could be radioactive contamination. From literature research, it was found that the penetration of radioactivity is less profound at the deeper levels of soil as opposed at the soil’s surface [2]. It was also validated that radiation directly impacts bacteria diversity: radioactivity decreased as soil depth increased. Thus, we hypothesize that alpha diversity will increase with increasing soil depth (decreasing soil contamination). The alpha diversity values across the six soil depths were plotted in Figure 2 to obtain a general trend that species diversity tends to increase as soil depth increases, which agrees with our hypothesis.  \n",
    "\n",
    "**Figure 2: Alpha diversity at different soil depths**  \n",
    "![Figure 2](abundance_plot.jpg)  \n",
    "\n",
    "Finally, to conduct mutation analysis of certain bacteria and investigate the effect of radioactivity, we will focus on one or two species (e.g. outliers, paradigms of the trend) and obtain their sequences. For instance, Ktedonobacter and Candidatus Solibacter would be interesting to focus on because one dropped significantly in abundance while the other remained almost the same. We hope to do this through MG-RAST’s built in annotated sequences. We will input these sequences into BLAST and analyze the mutations (specifically SNPs) between the input sequence and its closest match (lowest e-value). This analysis may consist of just comparing frequencies of SNPs, but could also include comparison of synonymous vs. non-synonymous mutations between two species or between soil depths.   "
   ]
  }
 ],
 "metadata": {
  "kernelspec": {
   "display_name": "Python 3",
   "language": "python",
   "name": "python3"
  },
  "language_info": {
   "codemirror_mode": {
    "name": "ipython",
    "version": 3
   },
   "file_extension": ".py",
   "mimetype": "text/x-python",
   "name": "python",
   "nbconvert_exporter": "python",
   "pygments_lexer": "ipython3",
   "version": "3.6.5"
  }
 },
 "nbformat": 4,
 "nbformat_minor": 2
}
