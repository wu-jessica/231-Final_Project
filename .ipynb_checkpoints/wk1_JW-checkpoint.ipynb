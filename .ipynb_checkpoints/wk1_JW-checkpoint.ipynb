{
 "cells": [
  {
   "cell_type": "markdown",
   "metadata": {},
   "source": [
    "## Final Project\n",
    "**Team:** Vivian Fu, Xinxin Mo, Jessica Wu, Snow Xu  \n",
    "**Data:** 160523Alm_D16-4701_1_sequence.fastq.gz and 160523Alm_D16-4701_2_sequence.fastq.gz  "
   ]
  },
  {
   "cell_type": "markdown",
   "metadata": {},
   "source": [
    "### Week 1"
   ]
  },
  {
   "cell_type": "markdown",
   "metadata": {},
   "source": [
    "**Terminal command:**\n",
    "\n",
    "    spades --meta -1 /data/metagenomes/160523Alm_D16-4701_1_sequence.fastq.gz -2 /data/metagenomes/160523Alm_D16-4701_2_sequence.fastq.gz -t 2 -m 16 -o ~/jess/final_proj\n",
    "    \n",
    "    Error: out of memory\n",
    "    \n",
    "    spades --meta -1 /data/metagenomes/160523Alm_D16-4701_1_sequence.fastq.gz -2 /data/metagenomes/160523Alm_D16-4701_2_sequence.fastq.gz -t 2 -o ~/jess/final_proj\n",
    "    \n",
    "Still running as of 11/7 6pm, so SPAdes analysis not included in this week's submission.  "
   ]
  },
  {
   "cell_type": "markdown",
   "metadata": {},
   "source": [
    "**Quantify the abundance of different microbes in metagenome**  \n",
    "[MetaPhIAn2](http://huttenhower.sph.harvard.edu/galaxy/)  \n",
    "[One Codex](https://onecodex.com/)  \n",
    "  \n",
    "**One Codex credentials**  \n",
    "username: vivianfu@berkeley.edu  \n",
    "password: 19951012  \n",
    "\n",
    "[One Codex Results](https://app.onecodex.com/classification/a029ffcffcc5437c)\n",
    "![Species Composition](top_species.jpg)  \n",
    "![Genus Composition](top_genera.jpg)  \n",
    "\n",
    "**Summary:**  \n",
    "Identical results were obtained for the forward and reverse reads of the sample, which makes sense because they are paired-end reads. Based on the results of One Codex, the sample is a metagenomic sample with no dominant species with high or medium abundance. Rather, the sample has a variety of bacterial species (and a few archae), each with relatively low abundance. The top ten most abundant (by readcount - percent of classified reads) species are 3.91% Armatimonadetes bacterium, 3.83% Acidobacteria bacterium, 0.99% Ktedonobacter racemifer, 0.86% Alphaproteobacteria bacterium, 0.78% Acidobacteria bacterium, 0.77% Nitrospirae bacterium, 0.71% Actinobacteria bacterium, 0.59% Crenarchaeota archaeon, 0.53% Chloroflex bacterium, and 0.44% Ktedonobacter sp. 13. The top ten most abundant genera are 3.37% Ktedonobacter, 3.05% Streptomyces, 1.16% Bradyrhizobium, 1.01% Mycobacterium, 0.6% Pseudomonas, 0.32% Sphingomonas, 0.28% Micromonospora, 0.27% Rhizobium, 0.27% Microbacterium, and 0.26% Mesorhizobium."
   ]
  }
 ],
 "metadata": {
  "kernelspec": {
   "display_name": "Python 3",
   "language": "python",
   "name": "python3"
  },
  "language_info": {
   "codemirror_mode": {
    "name": "ipython",
    "version": 3
   },
   "file_extension": ".py",
   "mimetype": "text/x-python",
   "name": "python",
   "nbconvert_exporter": "python",
   "pygments_lexer": "ipython3",
   "version": "3.6.5"
  }
 },
 "nbformat": 4,
 "nbformat_minor": 2
}
